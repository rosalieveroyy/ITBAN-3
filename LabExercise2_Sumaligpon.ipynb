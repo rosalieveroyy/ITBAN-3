{
  "cells": [
    {
      "cell_type": "code",
      "execution_count": null,
      "metadata": {
        "colab": {
          "base_uri": "https://localhost:8080/"
        },
        "id": "FWUaqHag02rj",
        "outputId": "f9780449-da40-4397-d210-ea41061a28b4"
      },
      "outputs": [
        {
          "output_type": "stream",
          "name": "stdout",
          "text": [
            "Mounted at /content/drive\n"
          ]
        }
      ],
      "source": [
        "from google.colab import drive\n",
        "drive.mount('/content/drive')"
      ]
    },
    {
      "cell_type": "code",
      "execution_count": null,
      "metadata": {
        "colab": {
          "base_uri": "https://localhost:8080/"
        },
        "id": "OSRbuCyd2ysC",
        "outputId": "c8ab41a6-9d38-4d4c-c048-27fe4c30450b"
      },
      "outputs": [
        {
          "output_type": "stream",
          "name": "stdout",
          "text": [
            "/content/drive/MyDrive/ITBAN3 - Fundamentals of Analytics Modelling | 2nd Sem AY 2023-2024\n"
          ]
        }
      ],
      "source": [
        "%cd /content/drive/MyDrive/ITBAN3 - Fundamentals of Analytics Modelling | 2nd Sem AY 2023-2024"
      ]
    },
    {
      "cell_type": "markdown",
      "metadata": {
        "id": "PdfXuhsE37_t"
      },
      "source": [
        "#Step 1: Using the Colab notebook, import the following packages/ libraries/ modules:\n",
        "\n",
        "- OS\n",
        "\n",
        "- Numpy\n",
        "\n",
        "- Pandas\n",
        "\n",
        "- Matplotlib\n",
        "\n",
        "- Seaborn\n",
        "\n",
        "- Warnings (to suppress warnings)"
      ]
    },
    {
      "cell_type": "code",
      "execution_count": null,
      "metadata": {
        "id": "5nE-I7OT3TqO"
      },
      "outputs": [],
      "source": [
        "import os\n",
        "import numpy as np\n",
        "import pandas as pd\n",
        "import matplotlib.pyplot as plt\n",
        "import seaborn as sns\n",
        "import warnings\n",
        "\n",
        "warnings.filterwarnings(\"ignore\")"
      ]
    },
    {
      "cell_type": "markdown",
      "metadata": {
        "id": "T0J_P5f24F1f"
      },
      "source": [
        "#Step 2: Import and load the dataset. Set the client_id as the index."
      ]
    },
    {
      "cell_type": "code",
      "execution_count": null,
      "metadata": {
        "id": "HnZF98m34I4M"
      },
      "outputs": [],
      "source": [
        "df = pd.read_csv('loans.csv', index_col='client_id')"
      ]
    },
    {
      "cell_type": "markdown",
      "metadata": {
        "id": "HxrHx3Bi4PgQ"
      },
      "source": [
        "#Step 3: Display the contents of the dataset by showing its first 5 rows."
      ]
    },
    {
      "cell_type": "code",
      "execution_count": null,
      "metadata": {
        "colab": {
          "base_uri": "https://localhost:8080/"
        },
        "id": "WnPa6bMA4Sdq",
        "outputId": "9ffdf263-5ebb-4bac-d4c4-5b6e4b737c81"
      },
      "outputs": [
        {
          "output_type": "stream",
          "name": "stdout",
          "text": [
            "          loan_type  loan_amount  repaid  loan_id  loan_start    loan_end  \\\n",
            "client_id                                                                   \n",
            "46109          home        13672       0    10243  2002-04-16  2003-12-20   \n",
            "46109        credit         9794       0    10984  2003-10-21  2005-07-17   \n",
            "46109          home        12734       1    10990  2006-02-01  2007-07-05   \n",
            "46109          cash        12518       1    10596  2010-12-08  2013-05-05   \n",
            "46109        credit        14049       1    11415  2010-07-07  2012-05-21   \n",
            "\n",
            "           rate  \n",
            "client_id        \n",
            "46109      2.15  \n",
            "46109      1.25  \n",
            "46109      0.68  \n",
            "46109      1.24  \n",
            "46109      3.13  \n"
          ]
        }
      ],
      "source": [
        "print(df.head())"
      ]
    },
    {
      "cell_type": "markdown",
      "metadata": {
        "id": "HEqlPRLR4gI6"
      },
      "source": [
        "#Step 4: Check the info of the dataset and the datatypes for each columns."
      ]
    },
    {
      "cell_type": "code",
      "execution_count": null,
      "metadata": {
        "colab": {
          "base_uri": "https://localhost:8080/"
        },
        "id": "vJ_1B9c04ooB",
        "outputId": "a80387fb-b043-4088-f573-cd059b15abf5"
      },
      "outputs": [
        {
          "output_type": "stream",
          "name": "stdout",
          "text": [
            "<class 'pandas.core.frame.DataFrame'>\n",
            "Int64Index: 443 entries, 46109 to 26945\n",
            "Data columns (total 7 columns):\n",
            " #   Column       Non-Null Count  Dtype  \n",
            "---  ------       --------------  -----  \n",
            " 0   loan_type    443 non-null    object \n",
            " 1   loan_amount  443 non-null    int64  \n",
            " 2   repaid       443 non-null    int64  \n",
            " 3   loan_id      443 non-null    int64  \n",
            " 4   loan_start   443 non-null    object \n",
            " 5   loan_end     443 non-null    object \n",
            " 6   rate         443 non-null    float64\n",
            "dtypes: float64(1), int64(3), object(3)\n",
            "memory usage: 27.7+ KB\n",
            "None\n"
          ]
        }
      ],
      "source": [
        "print(df.info())"
      ]
    },
    {
      "cell_type": "markdown",
      "metadata": {
        "id": "PBdpmRmd4wH4"
      },
      "source": [
        "#Step 5: Determine whether the dataset has missing values."
      ]
    },
    {
      "cell_type": "code",
      "execution_count": null,
      "metadata": {
        "colab": {
          "base_uri": "https://localhost:8080/"
        },
        "id": "_HfNquNY41xJ",
        "outputId": "f75b2c1d-41fa-46bc-fa6c-ebfb86c83fc6"
      },
      "outputs": [
        {
          "output_type": "stream",
          "name": "stdout",
          "text": [
            "Missing values:\n",
            " loan_type      0\n",
            "loan_amount    0\n",
            "repaid         0\n",
            "loan_id        0\n",
            "loan_start     0\n",
            "loan_end       0\n",
            "rate           0\n",
            "dtype: int64\n"
          ]
        }
      ],
      "source": [
        "print(\"Missing values:\\n\", df.isnull().sum())"
      ]
    },
    {
      "cell_type": "markdown",
      "metadata": {
        "id": "cBK8YBoP5B12"
      },
      "source": [
        "#Step 6: Check if there is a presence of outliers using Boxplot."
      ]
    },
    {
      "cell_type": "code",
      "execution_count": null,
      "metadata": {
        "colab": {
          "base_uri": "https://localhost:8080/",
          "height": 545
        },
        "id": "fYxZJXIo5F0j",
        "outputId": "774f1acf-2584-4b71-b5a3-1914333f3b6f"
      },
      "outputs": [
        {
          "output_type": "display_data",
          "data": {
            "text/plain": [
              "<Figure size 1200x600 with 1 Axes>"
            ],
            "image/png": "[encoded data removed]"
          },
          "metadata": {}
        }
      ],
      "source": [
        "plt.figure(figsize=(12, 6))\n",
        "sns.boxplot(data=df)\n",
        "plt.title(\"Boxplot of Numerical Features\")\n",
        "\n",
        "numerical_columns = df.select_dtypes(include=[np.number]).columns\n",
        "\n",
        "for column in numerical_columns:\n",
        "    Q1 = df[column].quantile(0.25)\n",
        "    Q3 = df[column].quantile(0.75)\n",
        "    IQR = Q3 - Q1\n",
        "    lower_bound = Q1 - 1.5 * IQR\n",
        "    upper_bound = Q3 + 1.5 * IQR\n",
        "\n",
        "    num_outliers = ((df[column] < lower_bound) | (df[column] > upper_bound)).sum()\n",
        "\n",
        "    plt.annotate(f'Outliers: {num_outliers}',\n",
        "                 xy=(0.7, 0.9 - 0.05 * numerical_columns.get_loc(column)),\n",
        "                 xycoords='axes fraction', fontsize=12, color='red')\n",
        "\n",
        "plt.show()\n"
      ]
    },
    {
      "cell_type": "markdown",
      "metadata": {
        "id": "74f-WCW95SmE"
      },
      "source": [
        "#Step 7: If there are a presence of outliers, do the following and explain the results:\n"
      ]
    },
    {
      "cell_type": "markdown",
      "metadata": {
        "id": "u7Pp6Heg_pO1"
      },
      "source": [
        "A. Treat them using SQRT transformation"
      ]
    },
    {
      "cell_type": "code",
      "execution_count": null,
      "metadata": {
        "id": "kHf9dKhu_u9p"
      },
      "outputs": [],
      "source": [
        "numerical_columns = df.select_dtypes(include=[np.number]).columns\n",
        "df_sqrt_transformed = df.copy()\n",
        "df_sqrt_transformed[numerical_columns] = np.sqrt(df[numerical_columns])"
      ]
    },
    {
      "cell_type": "markdown",
      "metadata": {
        "id": "xfb7cfpS_yfs"
      },
      "source": [
        "B. Treat them using the capping approach: Z-Score."
      ]
    },
    {
      "cell_type": "code",
      "execution_count": null,
      "metadata": {
        "id": "rHtSkbxu_7hb"
      },
      "outputs": [],
      "source": [
        "from scipy.stats import zscore\n",
        "\n",
        "z_scores = zscore(df[numerical_columns])\n",
        "df_z_capped = df.copy()\n",
        "df_z_capped[(z_scores > 3) | (z_scores < -3)] = np.nan"
      ]
    },
    {
      "cell_type": "markdown",
      "metadata": {
        "id": "MUeWvaP95t8N"
      },
      "source": [
        "#Step 8: Upon checking the datatypes for each columns, for numerical variables, apply scaling using Min-Max Normalization. Display the skewness and kurtosis graphs for Loan Amount and explain the results."
      ]
    },
    {
      "cell_type": "markdown",
      "metadata": {
        "id": "CO9Opcc9ALY7"
      },
      "source": [
        "Apply Min-Max Normalization to numerical variables"
      ]
    },
    {
      "cell_type": "code",
      "execution_count": null,
      "metadata": {
        "id": "wzcdS0E9AMKP"
      },
      "outputs": [],
      "source": [
        "from sklearn.preprocessing import MinMaxScaler\n",
        "\n",
        "scaler = MinMaxScaler()\n",
        "df[numerical_columns] = scaler.fit_transform(df[numerical_columns])"
      ]
    },
    {
      "cell_type": "markdown",
      "metadata": {
        "id": "KXtpVM4rASvD"
      },
      "source": [
        "Display skewness and kurtosis graphs for Loan Amount"
      ]
    },
    {
      "cell_type": "code",
      "execution_count": null,
      "metadata": {
        "colab": {
          "base_uri": "https://localhost:8080/",
          "height": 564
        },
        "id": "OmzqdMcyATYQ",
        "outputId": "ada99b57-ede1-4662-df30-2317c5d0946e"
      },
      "outputs": [
        {
          "output_type": "display_data",
          "data": {
            "text/plain": [
              "<Figure size 1200x600 with 1 Axes>"
            ],
            "image/png": "[encoded data removed]"
          },
          "metadata": {}
        }
      ],
      "source": [
        "plt.figure(figsize=(12, 6))\n",
        "sns.histplot(df['loan_amount'], kde=True)\n",
        "plt.title(\"Histogram of Loan Amount\")\n",
        "\n",
        "skewness = df['loan_amount'].skew()\n",
        "kurtosis = df['loan_amount'].kurtosis()\n",
        "\n",
        "plt.annotate(f'Skewness: {skewness:.2f}\\nKurtosis: {kurtosis:.2f}',\n",
        "             xy=(0.7, 0.9), xycoords='axes fraction', fontsize=12, color='red')\n",
        "\n",
        "plt.show()\n"
      ]
    },
    {
      "cell_type": "markdown",
      "metadata": {
        "id": "VRmDd2UDLqu0"
      },
      "source": [
        "Skewness is a statistical measure that describes the asymmetry of a probability distribution. It indicates the extent to which a distribution deviates from being symmetrical.\n",
        "\n",
        "Formula:\n",
        "Skewness = (3 * (Mean - Median)) / Standard Deviation\n",
        "\n",
        "where:\n",
        "Mean: The average value of the dataset.\n",
        "Median: The middle value of the dataset when it is sorted in ascending order.\n",
        "Standard Deviation: A measure of the spread of the dataset.\n",
        "\n",
        "Base on the result of skewness value of -0.04 is close to zero, suggesting a distribution that is approximately symmetric. It indicates a subtle tendency towards being left-skewed, but the skewness is very close to zero, so the distribution is relatively balanced.\n",
        "\n",
        "\n",
        "---\n",
        "\n",
        "\n",
        "Kurtosis: Kurtosis measures the peakedness or flatness of a distribution.\n",
        "Kurtosis is a statistical measure that describes the shape of a probability distribution. It quantifies the heaviness of the tails and the presence of outliers in a distribution.\n",
        "\n",
        "Formula:\n",
        "Kurtosis = (Sum of (x - Mean)^4) / (n * Standard Deviation^4)\n",
        "\n",
        "where:\n",
        "x: Each value in the dataset.\n",
        "Mean: The average value of the dataset.\n",
        "n: The number of values in the dataset.\n",
        "Standard Deviation: A measure of the spread of the dataset.\n",
        "\n",
        "kurtosis value of -1.23 is negative, suggesting a distribution that is somewhat platykurtic. This means that the distribution has lighter tails and a flatter central peak compared to a normal distribution."
      ]
    },
    {
      "cell_type": "markdown",
      "metadata": {
        "id": "DTq6ye9A5-Wa"
      },
      "source": [
        "#Step 9: As for the categorical features, apply encoding of categorical variables into dummy variables using pd.get_dummies approach. Show the first five (5) rows."
      ]
    },
    {
      "cell_type": "code",
      "execution_count": null,
      "metadata": {
        "colab": {
          "base_uri": "https://localhost:8080/"
        },
        "id": "jOgvfq2U6D37",
        "outputId": "9b3ce4cd-8404-4f9e-910c-6e057858eeda"
      },
      "outputs": [
        {
          "output_type": "stream",
          "name": "stdout",
          "text": [
            "           loan_amount  repaid   loan_id      rate  loan_type_cash  \\\n",
            "client_id                                                            \n",
            "46109         0.909867     0.0  0.118063  0.169707               0   \n",
            "46109         0.640785     0.0  0.491927  0.098335               0   \n",
            "46109         0.844782     1.0  0.494955  0.053132               0   \n",
            "46109         0.829795     1.0  0.296165  0.097542               1   \n",
            "46109         0.936026     1.0  0.709384  0.247423               0   \n",
            "\n",
            "           loan_type_credit  loan_type_home  loan_type_other  \\\n",
            "client_id                                                      \n",
            "46109                     0               1                0   \n",
            "46109                     1               0                0   \n",
            "46109                     0               1                0   \n",
            "46109                     0               0                0   \n",
            "46109                     1               0                0   \n",
            "\n",
            "           loan_start_2000-01-26  loan_start_2000-03-06  ...  \\\n",
            "client_id                                                ...   \n",
            "46109                          0                      0  ...   \n",
            "46109                          0                      0  ...   \n",
            "46109                          0                      0  ...   \n",
            "46109                          0                      0  ...   \n",
            "46109                          0                      0  ...   \n",
            "\n",
            "           loan_end_2016-11-14  loan_end_2016-11-27  loan_end_2016-12-10  \\\n",
            "client_id                                                                  \n",
            "46109                        0                    0                    0   \n",
            "46109                        0                    0                    0   \n",
            "46109                        0                    0                    0   \n",
            "46109                        0                    0                    0   \n",
            "46109                        0                    0                    0   \n",
            "\n",
            "           loan_end_2016-12-29  loan_end_2017-01-16  loan_end_2017-01-19  \\\n",
            "client_id                                                                  \n",
            "46109                        0                    0                    0   \n",
            "46109                        0                    0                    0   \n",
            "46109                        0                    0                    0   \n",
            "46109                        0                    0                    0   \n",
            "46109                        0                    0                    0   \n",
            "\n",
            "           loan_end_2017-01-26  loan_end_2017-01-29  loan_end_2017-02-15  \\\n",
            "client_id                                                                  \n",
            "46109                        0                    0                    0   \n",
            "46109                        0                    0                    0   \n",
            "46109                        0                    0                    0   \n",
            "46109                        0                    0                    0   \n",
            "46109                        0                    0                    0   \n",
            "\n",
            "           loan_end_2017-05-07  \n",
            "client_id                       \n",
            "46109                        0  \n",
            "46109                        0  \n",
            "46109                        0  \n",
            "46109                        0  \n",
            "46109                        0  \n",
            "\n",
            "[5 rows x 866 columns]\n"
          ]
        }
      ],
      "source": [
        "df_encoded = pd.get_dummies(df)\n",
        "\n",
        "# Display the first 5 rows of the encoded dataset\n",
        "print(df_encoded.head())"
      ]
    },
    {
      "cell_type": "markdown",
      "metadata": {
        "id": "whACwr9D6R-K"
      },
      "source": [
        "#Step 10: Create new derived features to calculate the tenure of the loan by using the loan_start and loan_end."
      ]
    },
    {
      "cell_type": "code",
      "execution_count": null,
      "metadata": {
        "id": "LRVPZvzQ6WYd"
      },
      "outputs": [],
      "source": [
        "df['loan_start'] = pd.to_datetime(df['loan_start'])\n",
        "df['loan_end'] = pd.to_datetime(df['loan_end'])\n",
        "df['loan_tenure'] = (df['loan_end'] - df['loan_start']).dt.days"
      ]
    },
    {
      "cell_type": "markdown",
      "metadata": {
        "id": "BwrQQPb86enX"
      },
      "source": [
        "#Step 11: Split the data into training and test sets with 80-20 division."
      ]
    },
    {
      "cell_type": "code",
      "execution_count": null,
      "metadata": {
        "id": "VdGwOe-DCFO-"
      },
      "outputs": [],
      "source": [
        "from sklearn.model_selection import train_test_split\n",
        "\n",
        "# Split the data into training and test sets\n",
        "X_train, X_test, y_train, y_test = train_test_split(X, y, test_size=0.2, random_state=42)\n"
      ]
    }
  ],
  "metadata": {
    "colab": {
      "provenance": []
    },
    "kernelspec": {
      "display_name": "Python 3",
      "name": "python3"
    },
    "language_info": {
      "name": "python"
    }
  },
  "nbformat": 4,
  "nbformat_minor": 0
}